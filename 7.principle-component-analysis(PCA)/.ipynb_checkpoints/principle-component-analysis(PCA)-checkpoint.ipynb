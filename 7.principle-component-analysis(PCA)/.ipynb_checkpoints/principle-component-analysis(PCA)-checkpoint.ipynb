{
 "cells": [
  {
   "cell_type": "markdown",
   "id": "ea944ff5",
   "metadata": {},
   "source": [
    "# ➥ Principle Component Analysis(PCA)"
   ]
  },
  {
   "cell_type": "code",
   "execution_count": null,
   "id": "e684d1ca",
   "metadata": {},
   "outputs": [],
   "source": [
    "from sklearn.preprocessing import StandardScaler\n",
    "import plotly.express as px\n"
   ]
  },
  {
   "cell_type": "code",
   "execution_count": null,
   "id": "59bd10fa",
   "metadata": {},
   "outputs": [],
   "source": [
    "housing = pd.read_csv('housing.csv')\n",
    "housing = housing[['HouseAge','AveRooms','AveBedrms','MedHouseVal']]\n",
    "housing.head()\n"
   ]
  },
  {
   "cell_type": "code",
   "execution_count": null,
   "id": "783b7a8c",
   "metadata": {},
   "outputs": [],
   "source": [
    "scaler = StandardScaler()"
   ]
  },
  {
   "cell_type": "code",
   "execution_count": null,
   "id": "b9000319",
   "metadata": {},
   "outputs": [],
   "source": [
    "housing_mean = scaler.fit_transform(housing.iloc[:,0:3])"
   ]
  },
  {
   "cell_type": "code",
   "execution_count": null,
   "id": "0b6f91ba",
   "metadata": {},
   "outputs": [],
   "source": [
    "pd.DataFrame(housing_mean,columns=housing[['HouseAge','AveRooms','AveBedrms']].columns).head()"
   ]
  },
  {
   "cell_type": "code",
   "execution_count": null,
   "id": "2135bb48",
   "metadata": {},
   "outputs": [],
   "source": [
    "conv = np.cov([housing_mean[0],housing_mean[1],housing_mean[2]])"
   ]
  },
  {
   "cell_type": "code",
   "execution_count": null,
   "id": "453a8e65",
   "metadata": {},
   "outputs": [],
   "source": [
    "conv"
   ]
  },
  {
   "cell_type": "code",
   "execution_count": null,
   "id": "3a90e085",
   "metadata": {},
   "outputs": [],
   "source": [
    "eigen_values, eigen_vectors = np.linalg.eig(conv)"
   ]
  },
  {
   "cell_type": "code",
   "execution_count": null,
   "id": "441073af",
   "metadata": {},
   "outputs": [],
   "source": [
    "eigen_values"
   ]
  },
  {
   "cell_type": "code",
   "execution_count": null,
   "id": "1223fb5b",
   "metadata": {},
   "outputs": [],
   "source": [
    "eigen_vectors"
   ]
  },
  {
   "cell_type": "code",
   "execution_count": null,
   "id": "19332b22",
   "metadata": {},
   "outputs": [],
   "source": [
    "pc = eigen_vectors[[0,2]]\n",
    "pc\n",
    "     "
   ]
  },
  {
   "cell_type": "code",
   "execution_count": null,
   "id": "ab5425de",
   "metadata": {},
   "outputs": [],
   "source": [
    "housing_tf = np.dot(housing.iloc[:,0:3],pc.T)\n",
    "new_housing = pd.DataFrame(housing_tf,columns=['PC1','PC2'])\n",
    "new_housing['MedHouseVal'] = housing['MedHouseVal'].values\n",
    "new_housing.head()"
   ]
  },
  {
   "cell_type": "code",
   "execution_count": null,
   "id": "5d1694a6",
   "metadata": {},
   "outputs": [],
   "source": [
    "new_housing['MedHouseVal'] = new_housing['MedHouseVal'].astype('str')\n",
    "fig = px.scatter(x=new_housing['PC1'],\n",
    "                 y=new_housing['PC2'],\n",
    "                 color=new_housing['MedHouseVal'],\n",
    "                 color_discrete_sequence=px.colors.qualitative.G10\n",
    "                )\n",
    "\n",
    "fig.update_traces(marker=dict(size=12,\n",
    "                              line=dict(width=2,\n",
    "                                        color='DarkSlateGrey')),\n",
    "                  selector=dict(mode='markers'))\n",
    "fig.show()"
   ]
  },
  {
   "cell_type": "markdown",
   "id": "d1a69e77",
   "metadata": {},
   "source": [
    "## PCA using sklearn"
   ]
  },
  {
   "cell_type": "code",
   "execution_count": null,
   "id": "8afc0137",
   "metadata": {},
   "outputs": [],
   "source": [
    "from sklearn.decomposition import PCA"
   ]
  },
  {
   "cell_type": "code",
   "execution_count": null,
   "id": "7feb7a2f",
   "metadata": {},
   "outputs": [],
   "source": [
    "pca = PCA(n_components=2)"
   ]
  },
  {
   "cell_type": "code",
   "execution_count": null,
   "id": "c5529fb2",
   "metadata": {},
   "outputs": [],
   "source": [
    "housing_trf = pca.fit_transform(housing_mean)"
   ]
  },
  {
   "cell_type": "code",
   "execution_count": null,
   "id": "6e8b232a",
   "metadata": {},
   "outputs": [],
   "source": [
    "housing_trf"
   ]
  },
  {
   "cell_type": "code",
   "execution_count": null,
   "id": "6d67be5b",
   "metadata": {},
   "outputs": [],
   "source": [
    "pca.explained_variance_\n",
    "# Eigen values"
   ]
  },
  {
   "cell_type": "code",
   "execution_count": null,
   "id": "83fa3f95",
   "metadata": {},
   "outputs": [],
   "source": [
    "pca.explained_variance_ratio_\n",
    "#totat 90% data carying"
   ]
  },
  {
   "cell_type": "code",
   "execution_count": null,
   "id": "bbc9d213",
   "metadata": {},
   "outputs": [],
   "source": [
    "ei_v = pca.components_\n",
    "# Eigen vectors"
   ]
  },
  {
   "cell_type": "code",
   "execution_count": null,
   "id": "462a200b",
   "metadata": {},
   "outputs": [],
   "source": [
    "housing_tf1 = np.dot(housing.iloc[:,0:3],ei_v.T)\n",
    "new_housing = pd.DataFrame(housing_tf1,columns=['PC1','PC2'])\n",
    "new_housing['MedHouseVal'] = housing['MedHouseVal'].values\n",
    "new_housing.head()"
   ]
  },
  {
   "cell_type": "code",
   "execution_count": null,
   "id": "7e904794",
   "metadata": {},
   "outputs": [],
   "source": [
    "new_housing['MedHouseVal'] = new_housing['MedHouseVal'].astype('str')\n",
    "fig = px.scatter(x=new_housing['PC1'],\n",
    "                 y=new_housing['PC2'],\n",
    "                 color=new_housing['MedHouseVal'],\n",
    "                 color_discrete_sequence=px.colors.qualitative.G10\n",
    "                )\n",
    "\n",
    "fig.update_traces(marker=dict(size=12,\n",
    "                              line=dict(width=2,\n",
    "                                        color='DarkSlateGrey')),\n",
    "                  selector=dict(mode='markers'))\n",
    "fig.show()"
   ]
  },
  {
   "cell_type": "markdown",
   "id": "c41f996a",
   "metadata": {},
   "source": [
    "## PCA test on MNIST Datasets"
   ]
  },
  {
   "cell_type": "markdown",
   "id": "2b3ca10e",
   "metadata": {},
   "source": [
    "### Without Applying PCA"
   ]
  },
  {
   "cell_type": "code",
   "execution_count": null,
   "id": "07bcac04",
   "metadata": {},
   "outputs": [],
   "source": [
    "from sklearn.model_selection import train_test_split\n",
    "from sklearn.neighbors import KNeighborsClassifier\n",
    "from sklearn.metrics import accuracy_score\n",
    "from sklearn.preprocessing import StandardScaler\n",
    "from sklearn.decomposition import PCA\n",
    "import time"
   ]
  },
  {
   "cell_type": "code",
   "execution_count": null,
   "id": "8be9abcb",
   "metadata": {},
   "outputs": [],
   "source": [
    "dr = pd.read_csv('digit.csv')\n",
    "dr.sample(5)"
   ]
  },
  {
   "cell_type": "code",
   "execution_count": null,
   "id": "aa420472",
   "metadata": {},
   "outputs": [],
   "source": [
    "plt.imshow(dr.iloc[23989,1:].values.reshape(28,28))"
   ]
  },
  {
   "cell_type": "code",
   "execution_count": null,
   "id": "4395b9e5",
   "metadata": {},
   "outputs": [],
   "source": [
    "dr.shape"
   ]
  },
  {
   "cell_type": "code",
   "execution_count": null,
   "id": "5406c122",
   "metadata": {},
   "outputs": [],
   "source": [
    "# Train datasets\n",
    "X_train,X_test,y_train,y_test = train_test_split(dr.iloc[:,1:],dr.iloc[:,0],test_size=0.2,random_state=42)"
   ]
  },
  {
   "cell_type": "code",
   "execution_count": null,
   "id": "826a8269",
   "metadata": {},
   "outputs": [],
   "source": [
    "knn = KNeighborsClassifier()"
   ]
  },
  {
   "cell_type": "code",
   "execution_count": null,
   "id": "00a131cc",
   "metadata": {},
   "outputs": [],
   "source": [
    "knn.fit(X_train,y_train)"
   ]
  },
  {
   "cell_type": "code",
   "execution_count": null,
   "id": "febe7aa6",
   "metadata": {},
   "outputs": [],
   "source": [
    "start = time.time()\n",
    "y_pred = knn.predict(X_test.values)\n",
    "print('Time(s):',time.time() - start)"
   ]
  },
  {
   "cell_type": "code",
   "execution_count": null,
   "id": "aff80248",
   "metadata": {},
   "outputs": [],
   "source": [
    "accu = accuracy_score(y_test,y_pred)"
   ]
  },
  {
   "cell_type": "code",
   "execution_count": null,
   "id": "3f9c5f9e",
   "metadata": {},
   "outputs": [],
   "source": [
    "accu"
   ]
  },
  {
   "cell_type": "markdown",
   "id": "1419456c",
   "metadata": {},
   "source": [
    "### Applying PCA"
   ]
  },
  {
   "cell_type": "code",
   "execution_count": null,
   "id": "a5bce6a1",
   "metadata": {},
   "outputs": [],
   "source": [
    "dr.head()"
   ]
  },
  {
   "cell_type": "code",
   "execution_count": null,
   "id": "e12b2ec2",
   "metadata": {},
   "outputs": [],
   "source": [
    "scaler = StandardScaler()"
   ]
  },
  {
   "cell_type": "code",
   "execution_count": null,
   "id": "81852991",
   "metadata": {},
   "outputs": [],
   "source": [
    "X1_train = scaler.fit_transform(X_train)\n",
    "X1_test = scaler.fit_transform(X_test)"
   ]
  },
  {
   "cell_type": "code",
   "execution_count": null,
   "id": "7caade7f",
   "metadata": {},
   "outputs": [],
   "source": [
    "pca = PCA(n_components=150)"
   ]
  },
  {
   "cell_type": "code",
   "execution_count": null,
   "id": "f19da622",
   "metadata": {},
   "outputs": [],
   "source": [
    "X1_train_tf = pca.fit_transform(X1_train)\n",
    "X1_test_tf = pca.transform(X1_test)"
   ]
  },
  {
   "cell_type": "code",
   "execution_count": null,
   "id": "ca0431e1",
   "metadata": {},
   "outputs": [],
   "source": [
    "knn.fit(X1_train_tf,y_train)"
   ]
  },
  {
   "cell_type": "code",
   "execution_count": null,
   "id": "1e2bfe62",
   "metadata": {},
   "outputs": [],
   "source": [
    "start = time.time()\n",
    "y_pred = knn.predict(X1_test_tf)\n",
    "print('Time(s):',time.time() - start)"
   ]
  },
  {
   "cell_type": "code",
   "execution_count": null,
   "id": "0bf5f1f4",
   "metadata": {},
   "outputs": [],
   "source": [
    "accu1 = accuracy_score(y_test,y_pred)"
   ]
  },
  {
   "cell_type": "code",
   "execution_count": null,
   "id": "ffa018ac",
   "metadata": {},
   "outputs": [],
   "source": [
    "accu1"
   ]
  },
  {
   "cell_type": "code",
   "execution_count": null,
   "id": "a5d4e145",
   "metadata": {},
   "outputs": [],
   "source": []
  }
 ],
 "metadata": {
  "kernelspec": {
   "display_name": "Python 3 (ipykernel)",
   "language": "python",
   "name": "python3"
  },
  "language_info": {
   "codemirror_mode": {
    "name": "ipython",
    "version": 3
   },
   "file_extension": ".py",
   "mimetype": "text/x-python",
   "name": "python",
   "nbconvert_exporter": "python",
   "pygments_lexer": "ipython3",
   "version": "3.11.5"
  }
 },
 "nbformat": 4,
 "nbformat_minor": 5
}
